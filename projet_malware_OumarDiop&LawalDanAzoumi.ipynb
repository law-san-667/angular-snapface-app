{
  "nbformat": 4,
  "nbformat_minor": 0,
  "metadata": {
    "colab": {
      "provenance": [],
      "include_colab_link": true
    },
    "kernelspec": {
      "name": "python3",
      "display_name": "Python 3"
    },
    "language_info": {
      "name": "python"
    }
  },
  "cells": [
    {
      "cell_type": "markdown",
      "metadata": {
        "id": "view-in-github",
        "colab_type": "text"
      },
      "source": [
        "<a href=\"https://colab.research.google.com/github/law-san-667/angular-snapface-app/blob/main/projet_malware_OumarDiop%26LawalDanAzoumi.ipynb\" target=\"_parent\"><img src=\"https://colab.research.google.com/assets/colab-badge.svg\" alt=\"Open In Colab\"/></a>"
      ]
    },
    {
      "cell_type": "markdown",
      "source": [
        "**1. Importation du Dataset:**"
      ],
      "metadata": {
        "id": "Ff0ZvShJcZxn"
      }
    },
    {
      "cell_type": "code",
      "source": [
        "# Import des bibliothèques nécessaires\n",
        "import numpy as np\n",
        "import pandas as pd\n",
        "from sklearn.model_selection import train_test_split\n",
        "from sklearn.svm import SVC\n",
        "from sklearn.ensemble import RandomForestClassifier\n",
        "from sklearn.neural_network import MLPClassifier\n",
        "from sklearn.tree import DecisionTreeClassifier\n",
        "from sklearn.neighbors import KNeighborsClassifier\n",
        "from sklearn.metrics import accuracy_score, classification_report"
      ],
      "metadata": {
        "id": "Fvd22hOn1D1g"
      },
      "execution_count": 8,
      "outputs": []
    },
    {
      "cell_type": "code",
      "source": [
        "#Importation du dataset\n",
        "dt = pd.read_csv(\"/content/sample_data/DatasetmalwareExtrait.csv\")"
      ],
      "metadata": {
        "id": "5UoB-LVPcuey"
      },
      "execution_count": 9,
      "outputs": []
    },
    {
      "cell_type": "markdown",
      "source": [
        "**2. Séparer le dataset en features (caractéristiques) et label (étiquettes).**"
      ],
      "metadata": {
        "id": "a3uid4thcwFi"
      }
    },
    {
      "cell_type": "code",
      "source": [
        "#Séparation des features\n",
        "X = dt.drop(columns='legitimate')\n",
        "y = dt['legitimate']"
      ],
      "metadata": {
        "id": "8e4pet5P1PYy"
      },
      "execution_count": 10,
      "outputs": []
    },
    {
      "cell_type": "markdown",
      "source": [
        "**3. Division des Données:**"
      ],
      "metadata": {
        "id": "PqePCRBadI6U"
      }
    },
    {
      "cell_type": "code",
      "source": [
        "X_train, X_test, y_train, y_test = train_test_split(X, y, test_size=0.3, random_state=42) # 30% pour le test"
      ],
      "metadata": {
        "id": "_fvhAxG0dNx_"
      },
      "execution_count": 11,
      "outputs": []
    },
    {
      "cell_type": "markdown",
      "source": [
        "**4 . Choix des Algorithmes:**\n",
        "\n",
        "C'est une partie importante, les 4 algorithmes que nous avons choisi pour notre situation sont les suivant:\n",
        "\n",
        "* **Forêt Aléatoire :**\n",
        "\n",
        "  * Avantages : Robuste, résiste au surajustement (overfitting), capable de gérer des ensembles de données complexes.\n",
        "  * Inconvénients : Peut être gourmand en ressources, peut être difficile à interpréter.\n",
        "\n",
        "* **Arbre de Décision :**\n",
        "\n",
        "  * Avantages : Interprétable, peu de préparation des données nécessaire, peut gérer des données catégorielles.\n",
        "  * Inconvénients : Tendance au surajustement, sensibilité aux variations mineures des données d'entrée.\n",
        "\n",
        "* **k-plus proches voisins (KNN) :**\n",
        "\n",
        "  * Avantages : Facile à comprendre et à implémenter, adapté aux données non linéaires, ne nécessite pas d'entraînement.\n",
        "  * Inconvénients : Sensible à la dimensionnalité (mauvaise performance avec de nombreuses caractéristiques), peut être lent pour des ensembles de données volumineux.\n",
        "\n",
        "* **Réseau de Neurones :**\n",
        "\n",
        "  * Avantages : Capable de capturer des relations complexes, performant sur de grandes quantités de données, peut apprendre des représentations hiérarchiques.\n",
        "  * Inconvénients : Exige un grand ensemble de données pour éviter le surajustement, peut être difficile à interpréter, nécessite des ressources de calcul importantes, peut nécessiter un temps d'entraînement prolongé."
      ],
      "metadata": {
        "id": "h8RQChCldPM9"
      }
    },
    {
      "cell_type": "markdown",
      "source": [
        "**5. Entraînement des Modèles:**"
      ],
      "metadata": {
        "id": "5e2O9cCSd2yV"
      }
    },
    {
      "cell_type": "code",
      "source": [
        "# Modèle Forêt Aléatoire\n",
        "rf_classifier = RandomForestClassifier()\n",
        "rf_classifier.fit(X_train, y_train)\n",
        "\n",
        "# Modèle Arbre de Decision\n",
        "dt_classifier = DecisionTreeClassifier()\n",
        "dt_classifier.fit(X_train, y_train)\n",
        "\n",
        "# Modèle k-plus proches voisins (KNN)\n",
        "knn_classifier = KNeighborsClassifier()\n",
        "knn_classifier.fit(X_train, y_train)\n",
        "\n",
        "# Modèle Réseau de Neurones\n",
        "mlp_classifier = MLPClassifier()\n",
        "mlp_classifier.fit(X_train, y_train)"
      ],
      "metadata": {
        "colab": {
          "base_uri": "https://localhost:8080/",
          "height": 74
        },
        "id": "7giH4-nyeXps",
        "outputId": "97a48651-caaf-4733-adc2-809be91b757c"
      },
      "execution_count": 12,
      "outputs": [
        {
          "output_type": "execute_result",
          "data": {
            "text/plain": [
              "MLPClassifier()"
            ],
            "text/html": [
              "<style>#sk-container-id-1 {color: black;background-color: white;}#sk-container-id-1 pre{padding: 0;}#sk-container-id-1 div.sk-toggleable {background-color: white;}#sk-container-id-1 label.sk-toggleable__label {cursor: pointer;display: block;width: 100%;margin-bottom: 0;padding: 0.3em;box-sizing: border-box;text-align: center;}#sk-container-id-1 label.sk-toggleable__label-arrow:before {content: \"▸\";float: left;margin-right: 0.25em;color: #696969;}#sk-container-id-1 label.sk-toggleable__label-arrow:hover:before {color: black;}#sk-container-id-1 div.sk-estimator:hover label.sk-toggleable__label-arrow:before {color: black;}#sk-container-id-1 div.sk-toggleable__content {max-height: 0;max-width: 0;overflow: hidden;text-align: left;background-color: #f0f8ff;}#sk-container-id-1 div.sk-toggleable__content pre {margin: 0.2em;color: black;border-radius: 0.25em;background-color: #f0f8ff;}#sk-container-id-1 input.sk-toggleable__control:checked~div.sk-toggleable__content {max-height: 200px;max-width: 100%;overflow: auto;}#sk-container-id-1 input.sk-toggleable__control:checked~label.sk-toggleable__label-arrow:before {content: \"▾\";}#sk-container-id-1 div.sk-estimator input.sk-toggleable__control:checked~label.sk-toggleable__label {background-color: #d4ebff;}#sk-container-id-1 div.sk-label input.sk-toggleable__control:checked~label.sk-toggleable__label {background-color: #d4ebff;}#sk-container-id-1 input.sk-hidden--visually {border: 0;clip: rect(1px 1px 1px 1px);clip: rect(1px, 1px, 1px, 1px);height: 1px;margin: -1px;overflow: hidden;padding: 0;position: absolute;width: 1px;}#sk-container-id-1 div.sk-estimator {font-family: monospace;background-color: #f0f8ff;border: 1px dotted black;border-radius: 0.25em;box-sizing: border-box;margin-bottom: 0.5em;}#sk-container-id-1 div.sk-estimator:hover {background-color: #d4ebff;}#sk-container-id-1 div.sk-parallel-item::after {content: \"\";width: 100%;border-bottom: 1px solid gray;flex-grow: 1;}#sk-container-id-1 div.sk-label:hover label.sk-toggleable__label {background-color: #d4ebff;}#sk-container-id-1 div.sk-serial::before {content: \"\";position: absolute;border-left: 1px solid gray;box-sizing: border-box;top: 0;bottom: 0;left: 50%;z-index: 0;}#sk-container-id-1 div.sk-serial {display: flex;flex-direction: column;align-items: center;background-color: white;padding-right: 0.2em;padding-left: 0.2em;position: relative;}#sk-container-id-1 div.sk-item {position: relative;z-index: 1;}#sk-container-id-1 div.sk-parallel {display: flex;align-items: stretch;justify-content: center;background-color: white;position: relative;}#sk-container-id-1 div.sk-item::before, #sk-container-id-1 div.sk-parallel-item::before {content: \"\";position: absolute;border-left: 1px solid gray;box-sizing: border-box;top: 0;bottom: 0;left: 50%;z-index: -1;}#sk-container-id-1 div.sk-parallel-item {display: flex;flex-direction: column;z-index: 1;position: relative;background-color: white;}#sk-container-id-1 div.sk-parallel-item:first-child::after {align-self: flex-end;width: 50%;}#sk-container-id-1 div.sk-parallel-item:last-child::after {align-self: flex-start;width: 50%;}#sk-container-id-1 div.sk-parallel-item:only-child::after {width: 0;}#sk-container-id-1 div.sk-dashed-wrapped {border: 1px dashed gray;margin: 0 0.4em 0.5em 0.4em;box-sizing: border-box;padding-bottom: 0.4em;background-color: white;}#sk-container-id-1 div.sk-label label {font-family: monospace;font-weight: bold;display: inline-block;line-height: 1.2em;}#sk-container-id-1 div.sk-label-container {text-align: center;}#sk-container-id-1 div.sk-container {/* jupyter's `normalize.less` sets `[hidden] { display: none; }` but bootstrap.min.css set `[hidden] { display: none !important; }` so we also need the `!important` here to be able to override the default hidden behavior on the sphinx rendered scikit-learn.org. See: https://github.com/scikit-learn/scikit-learn/issues/21755 */display: inline-block !important;position: relative;}#sk-container-id-1 div.sk-text-repr-fallback {display: none;}</style><div id=\"sk-container-id-1\" class=\"sk-top-container\"><div class=\"sk-text-repr-fallback\"><pre>MLPClassifier()</pre><b>In a Jupyter environment, please rerun this cell to show the HTML representation or trust the notebook. <br />On GitHub, the HTML representation is unable to render, please try loading this page with nbviewer.org.</b></div><div class=\"sk-container\" hidden><div class=\"sk-item\"><div class=\"sk-estimator sk-toggleable\"><input class=\"sk-toggleable__control sk-hidden--visually\" id=\"sk-estimator-id-1\" type=\"checkbox\" checked><label for=\"sk-estimator-id-1\" class=\"sk-toggleable__label sk-toggleable__label-arrow\">MLPClassifier</label><div class=\"sk-toggleable__content\"><pre>MLPClassifier()</pre></div></div></div></div></div>"
            ]
          },
          "metadata": {},
          "execution_count": 12
        }
      ]
    },
    {
      "cell_type": "markdown",
      "source": [
        "**6. Tester la performance de chaque modèle**"
      ],
      "metadata": {
        "id": "xxtzRRS2gZXB"
      }
    },
    {
      "cell_type": "code",
      "source": [
        "# Modèle Forêt Aléatoire\n",
        "rf_pred = rf_classifier.predict(X_test)\n",
        "\n",
        "# Modèle Arbre de Decision\n",
        "dt_pred = dt_classifier.predict(X_test)\n",
        "\n",
        "# Modèle k-plus proches voisins (KNN)\n",
        "knn_pred = knn_classifier.predict(X_test)\n",
        "\n",
        "# Modèle Réseau de Neurones\n",
        "mlp_pred = mlp_classifier.predict(X_test)"
      ],
      "metadata": {
        "id": "J2xlkKLn1uzx"
      },
      "execution_count": 13,
      "outputs": []
    },
    {
      "cell_type": "markdown",
      "source": [
        "**7. Évaluer les Modèles: **"
      ],
      "metadata": {
        "id": "ir0NZt_Fgxsl"
      }
    },
    {
      "cell_type": "code",
      "execution_count": 14,
      "metadata": {
        "colab": {
          "base_uri": "https://localhost:8080/"
        },
        "id": "eFtAGxBdff4j",
        "outputId": "f413d3ec-ccc9-437a-e4fc-06acb063fd43"
      },
      "outputs": [
        {
          "output_type": "stream",
          "name": "stdout",
          "text": [
            "\n",
            "MLP Accuracy: 0.8891206286074599\n",
            "MLP Classification Report:\n",
            "               precision    recall  f1-score   support\n",
            "\n",
            "           0       0.90      0.95      0.92     28884\n",
            "           1       0.87      0.74      0.80     12350\n",
            "\n",
            "    accuracy                           0.89     41234\n",
            "   macro avg       0.88      0.85      0.86     41234\n",
            "weighted avg       0.89      0.89      0.89     41234\n",
            "\n",
            "\n",
            "Random Forest Accuracy: 0.990857059708008\n",
            "Random Forest Classification Report:\n",
            "               precision    recall  f1-score   support\n",
            "\n",
            "           0       0.99      0.99      0.99     28884\n",
            "           1       0.98      0.99      0.98     12350\n",
            "\n",
            "    accuracy                           0.99     41234\n",
            "   macro avg       0.99      0.99      0.99     41234\n",
            "weighted avg       0.99      0.99      0.99     41234\n",
            "\n",
            "\n",
            "Decision Tree Accuracy: 0.9875103070281807\n",
            "Decision Tree Classification Report:\n",
            "               precision    recall  f1-score   support\n",
            "\n",
            "           0       0.99      0.99      0.99     28884\n",
            "           1       0.98      0.98      0.98     12350\n",
            "\n",
            "    accuracy                           0.99     41234\n",
            "   macro avg       0.98      0.99      0.99     41234\n",
            "weighted avg       0.99      0.99      0.99     41234\n",
            "\n",
            "\n",
            "KNN Accuracy: 0.9701217441916865\n",
            "KNN Classification Report:\n",
            "               precision    recall  f1-score   support\n",
            "\n",
            "           0       0.98      0.98      0.98     28884\n",
            "           1       0.94      0.96      0.95     12350\n",
            "\n",
            "    accuracy                           0.97     41234\n",
            "   macro avg       0.96      0.97      0.96     41234\n",
            "weighted avg       0.97      0.97      0.97     41234\n",
            "\n"
          ]
        }
      ],
      "source": [
        "\n",
        "\n",
        "# Évaluation des modèles\n",
        "print(\"\\nMLP Accuracy:\", accuracy_score(y_test, mlp_pred))\n",
        "print(\"MLP Classification Report:\\n\", classification_report(y_test, mlp_pred))\n",
        "\n",
        "print(\"\\nRandom Forest Accuracy:\", accuracy_score(y_test, rf_pred))\n",
        "print(\"Random Forest Classification Report:\\n\", classification_report(y_test, rf_pred))\n",
        "\n",
        "print(\"\\nDecision Tree Accuracy:\", accuracy_score(y_test, dt_pred))\n",
        "print(\"Decision Tree Classification Report:\\n\", classification_report(y_test, dt_pred))\n",
        "\n",
        "print(\"\\nKNN Accuracy:\", accuracy_score(y_test, knn_pred))\n",
        "print(\"KNN Classification Report:\\n\", classification_report(y_test, knn_pred))\n",
        "\n"
      ]
    },
    {
      "cell_type": "markdown",
      "source": [
        "**8. Sélection du Meilleur Modèle:**\n",
        "**Le model RandomForest est donc plus efficace avec une presicion de 99,1%**\n",
        "C'est donc celui que nous allons enregistrer...\n",
        "\n",
        "**9. Identifier et enregistrer le modèle présentant la meilleure précision.**"
      ],
      "metadata": {
        "id": "575hv58c3rRd"
      }
    },
    {
      "cell_type": "code",
      "source": [
        "import joblib\n",
        "joblib.dump(rf_classifier, 'randomForestClassifier_model.pkl')"
      ],
      "metadata": {
        "colab": {
          "base_uri": "https://localhost:8080/"
        },
        "id": "e7LDKlQtGRzF",
        "outputId": "cacc01c0-dc26-42d4-979e-6f6c9b6fcbe2"
      },
      "execution_count": 15,
      "outputs": [
        {
          "output_type": "execute_result",
          "data": {
            "text/plain": [
              "['randomForestClassifier_model.pkl']"
            ]
          },
          "metadata": {},
          "execution_count": 15
        }
      ]
    },
    {
      "cell_type": "markdown",
      "source": [
        "Le modèle a été sauvegardé !\n",
        "\n",
        "**10. Le déploiement:** Utilisons Flask\n",
        "\n"
      ],
      "metadata": {
        "id": "SPqFUdo-IMt2"
      }
    },
    {
      "cell_type": "code",
      "source": [
        "from flask import Flask, request, jsonify, render_template\n",
        "\n",
        "app = Flask(__name__)\n",
        "\n",
        "model = joblib.load('randomForestClassifier_model.pkl')\n",
        "predictions = model.predict(X_test)\n",
        "\n",
        "@app.route(\"/\")\n",
        "def home():\n",
        "  return render_template(\"index.html\")\n",
        "\n",
        "\n",
        "@app.route(\"/model\", methods=['POST'])\n",
        "def predict():\n",
        "  try:\n",
        "    data = request.json\n",
        "    prediction = model.predict([data[\"features\"]])[0]\n",
        "    return render_template(\"/prediction.html\", result=prediction)\n",
        "\n",
        "  except Exception as error:\n",
        "    return \"Something wrong happenned\"\n",
        "\n",
        "  if __main__ == \"__main__\":\n",
        "    app.run(port=5000, debug=True)"
      ],
      "metadata": {
        "id": "pRF4_IByIQ42"
      },
      "execution_count": 17,
      "outputs": []
    }
  ]
}